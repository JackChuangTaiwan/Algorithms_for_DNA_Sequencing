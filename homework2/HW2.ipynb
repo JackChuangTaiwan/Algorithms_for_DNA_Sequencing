{
 "cells": [
  {
   "cell_type": "markdown",
   "metadata": {},
   "source": [
    "# Programming Homework 2"
   ]
  },
  {
   "cell_type": "markdown",
   "metadata": {},
   "source": [
    "### Question 1\n",
    "How many alignments does the naive exact matching algorithm try when matching the string **GGCGCGGTGGCTCACGCCTGTAATCCCAGCACTTTGGGAGGCCGAGG** (derived from human Alu sequences) to the excerpt of human chromosome 1? (Don't consider reverse complements.)"
   ]
  },
  {
   "cell_type": "code",
   "execution_count": 1,
   "metadata": {},
   "outputs": [],
   "source": [
    "from bm_with_counts import boyer_moore_with_counts\n",
    "from bm_preproc import BoyerMoore\n",
    "from naive_with_counts import naive_with_counts\n",
    "import wget"
   ]
  },
  {
   "cell_type": "code",
   "execution_count": 2,
   "metadata": {},
   "outputs": [],
   "source": [
    "def readGenome(filename):\n",
    "    genome = ''\n",
    "    with open(filename, 'r') as f:\n",
    "        for line in f:\n",
    "            # ignore header line with genome information\n",
    "            if not line[0] == '>':\n",
    "                genome += line.rstrip()\n",
    "    return genome"
   ]
  },
  {
   "cell_type": "code",
   "execution_count": 3,
   "metadata": {},
   "outputs": [
    {
     "data": {
      "text/plain": [
       "800000"
      ]
     },
     "execution_count": 3,
     "metadata": {},
     "output_type": "execute_result"
    }
   ],
   "source": [
    "chr1=readGenome('chr1.GRCh38.excerpt.fasta')\n",
    "len(chr1)"
   ]
  },
  {
   "cell_type": "code",
   "execution_count": 4,
   "metadata": {},
   "outputs": [
    {
     "name": "stdout",
     "output_type": "stream",
     "text": [
      "[56922] 799954 984143\n"
     ]
    }
   ],
   "source": [
    "p='GGCGCGGTGGCTCACGCCTGTAATCCCAGCACTTTGGGAGGCCGAGG'\n",
    "t=chr1\n",
    "occurrences, num_alignments, num_character_comparisons = naive_with_counts(p, t)\n",
    "print (occurrences, num_alignments, num_character_comparisons)"
   ]
  },
  {
   "cell_type": "markdown",
   "metadata": {},
   "source": [
    "### Question 2\n",
    "How many character comparisons does the naive exact matching algorithm try when matching the string **GGCGCGGTGGCTCACGCCTGTAATCCCAGCACTTTGGGAGGCCGAGG** (derived from human Alu sequences) to the excerpt of human chromosome 1? (Don't consider reverse complements.)"
   ]
  },
  {
   "cell_type": "code",
   "execution_count": 5,
   "metadata": {},
   "outputs": [
    {
     "name": "stdout",
     "output_type": "stream",
     "text": [
      "[56922] 799954 984143\n"
     ]
    }
   ],
   "source": [
    "print (occurrences, num_alignments, num_character_comparisons)"
   ]
  },
  {
   "cell_type": "markdown",
   "metadata": {},
   "source": [
    "### Question 3\n",
    "How many alignments does Boyer-Moore try when matching the string **GGCGCGGTGGCTCACGCCTGTAATCCCAGCACTTTGGGAGGCCGAGG** (derived from human Alu sequences) to the excerpt of human chromosome 1? (Don't consider reverse complements.)"
   ]
  },
  {
   "cell_type": "code",
   "execution_count": 6,
   "metadata": {},
   "outputs": [
    {
     "name": "stdout",
     "output_type": "stream",
     "text": [
      "[56922] 127974 165191\n"
     ]
    }
   ],
   "source": [
    "p='GGCGCGGTGGCTCACGCCTGTAATCCCAGCACTTTGGGAGGCCGAGG'\n",
    "t=chr1\n",
    "p_bm = BoyerMoore(p)\n",
    "occurrences, num_alignments, num_character_comparisons = boyer_moore_with_counts(p, p_bm ,t)\n",
    "print (occurrences, num_alignments, num_character_comparisons)"
   ]
  },
  {
   "cell_type": "markdown",
   "metadata": {},
   "source": [
    "### Question 4\n",
    "Index-assisted approximate matching. In practicals, we built a Python class called **Index**\n",
    "implementing an ordered-list version of the k-mer index. The **Index** class is copied below."
   ]
  },
  {
   "cell_type": "code",
   "execution_count": 7,
   "metadata": {},
   "outputs": [],
   "source": [
    "class Index(object):\n",
    "    def __init__(self, t, k):\n",
    "        ''' Create index from all substrings of size 'length' '''\n",
    "        self.k = k  # k-mer length (k)\n",
    "        self.index = []\n",
    "        for i in range(len(t) - k + 1):  # for each k-mer\n",
    "            self.index.append((t[i:i+k], i))  # add (k-mer, offset) pair\n",
    "        self.index.sort()  # alphabetize by k-mer\n",
    "    \n",
    "    def query(self, p):\n",
    "        import bisect\n",
    "        ''' Return index hits for first k-mer of P '''\n",
    "        kmer = p[:self.k]  # query with first k-mer\n",
    "        i = bisect.bisect_left(self.index, (kmer, -1))  # binary search\n",
    "        hits = []\n",
    "        while i < len(self.index):  # collect matching index entries\n",
    "            if self.index[i][0] != kmer:\n",
    "                break\n",
    "            hits.append(self.index[i][1])\n",
    "            i += 1\n",
    "        return hits"
   ]
  },
  {
   "cell_type": "markdown",
   "metadata": {},
   "source": [
    "We also implemented the pigeonhole principle using Boyer-Moore as our exact matching algorithm.\n",
    "Implement the pigeonhole principle using **Index** to find exact matches for the partitions. Assume P always has length 24, and that we are looking for approximate matches with up to 2 mismatches (substitutions). We will use an 8-mer index.\n",
    "\n",
    "Download the Python module for building a k-mer index.\n",
    "\n",
    "https://d28rh4a8wq0iu5.cloudfront.net/ads1/code/kmer_index.py\n",
    "\n",
    "Write a function that, given a length-24 pattern P and given an **Index** object built on 8-mers, finds all approximate occurrences of P within T with up to 2 mismatches. Insertions and deletions are not allowed. Don't consider any reverse complements.\n",
    "\n",
    "How many times does the string **GGCGCGGTGGCTCACGCCTGTAAT**, which is derived from a human Alu sequence, occur with up to 2 substitutions in the excerpt of human chromosome 1? (Don't consider reverse complements here.)\n",
    "\n",
    "Hint 1: Multiple index hits might direct you to the same match multiple times, but be careful not to count a match more than once.\n",
    "Hint 2: You can check your work by comparing the output of your new function to that of the **naive_2mm** function implemented in the previous module."
   ]
  },
  {
   "cell_type": "code",
   "execution_count": 8,
   "metadata": {},
   "outputs": [],
   "source": [
    "def approximate_match(p, t, n, index):\n",
    "    segment_length = int(round(len(p) / (n+1)))\n",
    "    all_matches = set()\n",
    "    indexhit=0\n",
    "    for i in range(n+1):\n",
    "        start = i*segment_length\n",
    "        end = min((i+1)*segment_length, len(p))\n",
    "        matches = index.query(p[start:end])\n",
    "        # Extend matching segments to see if whole p matches\n",
    "        for m in matches:\n",
    "            indexhit += 1\n",
    "            if m < start or m-start+len(p) > len(t):\n",
    "                continue\n",
    "            mismatches = 0\n",
    "            for j in range(0, start):\n",
    "                if not p[j] == t[m-start+j]:\n",
    "                    mismatches += 1\n",
    "                    if mismatches > n:\n",
    "                        break\n",
    "            for j in range(end, len(p)):\n",
    "                if not p[j] == t[m-start+j]:\n",
    "                    mismatches += 1\n",
    "                    if mismatches > n:\n",
    "                        break\n",
    "            if mismatches <= n:\n",
    "                all_matches.add(m - start)\n",
    "    return list(all_matches), indexhit"
   ]
  },
  {
   "cell_type": "code",
   "execution_count": 9,
   "metadata": {},
   "outputs": [
    {
     "name": "stdout",
     "output_type": "stream",
     "text": [
      "19 90\n"
     ]
    }
   ],
   "source": [
    "p='GGCGCGGTGGCTCACGCCTGTAAT'\n",
    "t=chr1\n",
    "index=Index(t,8)\n",
    "matches,indexhit=approximate_match(p, t, 2,index)\n",
    "print(len(matches),indexhit)\n"
   ]
  },
  {
   "cell_type": "markdown",
   "metadata": {},
   "source": [
    "### Question 5\n",
    "Using the instructions given in Question 4, how many total index hits are there when searching for occurrences of **GGCGCGGTGGCTCACGCCTGTAAT** with up to 2 substitutions in the excerpt of human chromosome 1?\n",
    "\n",
    "(Don't consider reverse complements.)\n",
    "\n",
    "Hint: You should be able to use the **boyer_moore function** (or the slower **naive** function) to double-check your answer."
   ]
  },
  {
   "cell_type": "code",
   "execution_count": 10,
   "metadata": {},
   "outputs": [
    {
     "name": "stdout",
     "output_type": "stream",
     "text": [
      "90\n"
     ]
    }
   ],
   "source": [
    "print(indexhit)"
   ]
  },
  {
   "cell_type": "markdown",
   "metadata": {},
   "source": [
    "Let's examine whether there is a benefit to using an index built using subsequences of T rather than substrings, as we discussed in the \"Variations on k-mer indexes\" video. We'll consider subsequences involving every N characters. For example, if we split **ATATAT** into two substring partitions, we would get partitions **ATA** (the first half) and **TAT** (second half). But if we split **ATATAT** into two subsequences by taking every other character, we would get **AAA** (first, third and fifth characters) and **TTT** (second, fourth and sixth).\n",
    "\n",
    "Another way to visualize this is using numbers to show how each character of P is allocated to a partition. Splitting a length-6 pattern into two substrings could be represented as **111222**, and splitting into two subsequences of every other character could be represented as **121212**\n",
    "\n",
    "The following class **ubseqIndex** is a more general implementation of **Index** that additionally handles subsequences. It only considers subsequences that take every Nth character:"
   ]
  },
  {
   "cell_type": "code",
   "execution_count": 11,
   "metadata": {},
   "outputs": [],
   "source": [
    "import bisect\n",
    "   \n",
    "class SubseqIndex(object):\n",
    "    \"\"\" Holds a subsequence index for a text T \"\"\"\n",
    "    \n",
    "    def __init__(self, t, k, ival):\n",
    "        \"\"\" Create index from all subsequences consisting of k characters\n",
    "            spaced ival positions apart.  E.g., SubseqIndex(\"ATAT\", 2, 2)\n",
    "            extracts (\"AA\", 0) and (\"TT\", 1). \"\"\"\n",
    "        self.k = k  # num characters per subsequence extracted\n",
    "        self.ival = ival  # space between them; 1=adjacent, 2=every other, etc\n",
    "        self.index = []\n",
    "        self.span = 1 + ival * (k - 1)\n",
    "        for i in range(len(t) - self.span + 1):  # for each subseq\n",
    "            self.index.append((t[i:i+self.span:ival], i))  # add (subseq, offset)\n",
    "        self.index.sort()  # alphabetize by subseq\n",
    "    \n",
    "    def query(self, p):\n",
    "        \"\"\" Return index hits for first subseq of p \"\"\"\n",
    "        subseq = p[:self.span:self.ival]  # query with first subseq\n",
    "        i = bisect.bisect_left(self.index, (subseq, -1))  # binary search\n",
    "        hits = []\n",
    "        while i < len(self.index):  # collect matching index entries\n",
    "            if self.index[i][0] != subseq:\n",
    "                break\n",
    "            hits.append(self.index[i][1])\n",
    "            i += 1\n",
    "        return hits"
   ]
  },
  {
   "cell_type": "markdown",
   "metadata": {},
   "source": [
    "\n",
    "For example, if we do:\n"
   ]
  },
  {
   "cell_type": "code",
   "execution_count": 12,
   "metadata": {},
   "outputs": [
    {
     "name": "stdout",
     "output_type": "stream",
     "text": [
      "[('AAA', 0), ('TTT', 1)]\n"
     ]
    }
   ],
   "source": [
    "ind = SubseqIndex('ATATAT', 3, 2)\n",
    "print(ind.index)"
   ]
  },
  {
   "cell_type": "markdown",
   "metadata": {},
   "source": [
    "And if we query this index:"
   ]
  },
  {
   "cell_type": "code",
   "execution_count": 13,
   "metadata": {},
   "outputs": [
    {
     "name": "stdout",
     "output_type": "stream",
     "text": [
      "[]\n"
     ]
    }
   ],
   "source": [
    "p = 'TTATAT'\n",
    "print(ind.query(p[0:]))"
   ]
  },
  {
   "cell_type": "markdown",
   "metadata": {},
   "source": [
    "because the subsequence **TAA** is not in the index. But if we query with the second subsequence:"
   ]
  },
  {
   "cell_type": "code",
   "execution_count": 14,
   "metadata": {},
   "outputs": [
    {
     "name": "stdout",
     "output_type": "stream",
     "text": [
      "[1]\n"
     ]
    }
   ],
   "source": [
    "print(ind.query(p[1:]))"
   ]
  },
  {
   "cell_type": "markdown",
   "metadata": {},
   "source": [
    "because the second subsequence **TTT** is in the index.\n",
    "\n",
    "### Question 7\n",
    "Write a function that, given a length-24 pattern P and given a **SubseqIndex** object built with k = 8 and ival = 3, finds all approximate occurrences of P within T with up to 2 mismatches.\n",
    "\n",
    "When using this function, how many total index hits are there when searching for **GGCGCGGTGGCTCACGCCTGTAAT** with up to 2 substitutions in the excerpt of human chromosome 1? (Again, don't consider reverse complements.)\n",
    "\n",
    "Hint: See this notebook for a few examples you can use to test your function."
   ]
  },
  {
   "cell_type": "code",
   "execution_count": 15,
   "metadata": {},
   "outputs": [
    {
     "name": "stdout",
     "output_type": "stream",
     "text": [
      "34 26610\n"
     ]
    }
   ],
   "source": [
    "p='GGCGCGGTGGCTCACGCCTGTAAT'\n",
    "t=chr1\n",
    "index=SubseqIndex(t, 3, 2)\n",
    "matches,indexhit=approximate_match(p, t, 2,index)\n",
    "print(len(matches),indexhit)"
   ]
  },
  {
   "cell_type": "code",
   "execution_count": 16,
   "metadata": {},
   "outputs": [],
   "source": [
    "def query_subseq(p, t, index):\n",
    "    k = index.k\n",
    "    offsets = []\n",
    "    hit=0\n",
    "    for i in index.query(p):\n",
    "        hit+=1\n",
    "        if p[0:] == t[i+0:i+len(p)]:  # verify that rest of P matches\n",
    "            offsets.append(i)\n",
    "    for i in index.query(p[1:]):\n",
    "        hit+=1\n",
    "        if p[1:] == t[i+1:i+len(p)-1]:  # verify that rest of P matches\n",
    "            offsets.append(i)\n",
    "    for i in index.query(p[2:]):\n",
    "        hit+=1\n",
    "        if p[2:] == t[i+2:i+len(p)-2]:  # verify that rest of P matches\n",
    "            offsets.append(i)            \n",
    "    return offsets,hit "
   ]
  },
  {
   "cell_type": "code",
   "execution_count": 17,
   "metadata": {},
   "outputs": [],
   "source": [
    "t = chr1\n",
    "p = 'GGCGCGGTGGCTCACGCCTGTAAT'\n",
    "subseq_ind = SubseqIndex(t, 8, 3)\n",
    "occurrences, num_index_hits = query_subseq(p, t, subseq_ind)"
   ]
  },
  {
   "cell_type": "code",
   "execution_count": 18,
   "metadata": {},
   "outputs": [
    {
     "name": "stdout",
     "output_type": "stream",
     "text": [
      "[56922, 262042, 364263, 657496, 717706]\n",
      "79\n"
     ]
    }
   ],
   "source": [
    "print(occurrences)\n",
    "print(num_index_hits)"
   ]
  },
  {
   "cell_type": "code",
   "execution_count": null,
   "metadata": {},
   "outputs": [],
   "source": []
  }
 ],
 "metadata": {
  "kernelspec": {
   "display_name": "Python 3",
   "language": "python",
   "name": "python3"
  },
  "language_info": {
   "codemirror_mode": {
    "name": "ipython",
    "version": 3
   },
   "file_extension": ".py",
   "mimetype": "text/x-python",
   "name": "python",
   "nbconvert_exporter": "python",
   "pygments_lexer": "ipython3",
   "version": "3.7.0"
  }
 },
 "nbformat": 4,
 "nbformat_minor": 2
}
