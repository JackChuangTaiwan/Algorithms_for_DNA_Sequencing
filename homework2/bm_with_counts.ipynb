{
 "cells": [
  {
   "cell_type": "code",
   "execution_count": null,
   "metadata": {},
   "outputs": [],
   "source": [
    "def boyer_moore_with_counts(p, p_bm,t):\n",
    "    i = 0\n",
    "    occurences=[]\n",
    "    num_alignments=0\n",
    "    num_character_comparisons=0\n",
    "    while i < len(t)-len(p) + 1:\n",
    "        print (i,len(t),len(p))\n",
    "        shift = 1\n",
    "        mismatched = False\n",
    "        num_alignments+=1\n",
    "        for j in range(len(p)-1,-1,-1):\n",
    "            num_character_comparisons+=1\n",
    "            if not p[j]==t[i+j]:\n",
    "                skip_bc = p_bm.bad_character_rule(j, t[i+j])\n",
    "                skip_gs = p_bm.good_suffix_rule(j)\n",
    "                shift = max(shift, skip_bc, skip_gs)\n",
    "                mismatched = True\n",
    "                break\n",
    "        if not mismatched:\n",
    "            occurences.append(i)\n",
    "            skip_gs = p_bm.match_skip()\n",
    "            shift = max(shift, skip_gs)\n",
    "        i+=shift\n",
    "    return occurences,num_alignments,num_character_comparisons"
   ]
  }
 ],
 "metadata": {
  "kernelspec": {
   "display_name": "Python 3",
   "language": "python",
   "name": "python3"
  },
  "language_info": {
   "codemirror_mode": {
    "name": "ipython",
    "version": 3
   },
   "file_extension": ".py",
   "mimetype": "text/x-python",
   "name": "python",
   "nbconvert_exporter": "python",
   "pygments_lexer": "ipython3",
   "version": "3.7.0"
  }
 },
 "nbformat": 4,
 "nbformat_minor": 2
}
