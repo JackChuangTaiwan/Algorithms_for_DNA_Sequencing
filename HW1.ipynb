{
 "cells": [
  {
   "cell_type": "markdown",
   "metadata": {},
   "source": [
    "# Programming Homework 1\n",
    "\n",
    "#### Question 1\n",
    "How many times does **AGGT** or its reverse complement (**ACCT**) occur in the lambda virus genome? E.g. if **AGGT** occurs 10 times and **ACCT** occurs 12 times, you should report 22."
   ]
  },
  {
   "cell_type": "code",
   "execution_count": 1,
   "metadata": {},
   "outputs": [
    {
     "data": {
      "text/plain": [
       "'lambda_virus (3).fa'"
      ]
     },
     "execution_count": 1,
     "metadata": {},
     "output_type": "execute_result"
    }
   ],
   "source": [
    "# Implement the naive_with_rc function\n",
    "from naive_with_rc import naive_with_rc\n",
    "import wget\n",
    "wget.download('https://d28rh4a8wq0iu5.cloudfront.net/ads1/data/lambda_virus.fa')"
   ]
  },
  {
   "cell_type": "code",
   "execution_count": 2,
   "metadata": {},
   "outputs": [],
   "source": [
    "def readGenome(filename):\n",
    "    genome = ''\n",
    "    with open(filename, 'r') as f:\n",
    "        for line in f:\n",
    "            # ignore header line with genome information\n",
    "            if not line[0] == '>':\n",
    "                genome += line.rstrip()\n",
    "    return genome"
   ]
  },
  {
   "cell_type": "code",
   "execution_count": 3,
   "metadata": {},
   "outputs": [
    {
     "name": "stdout",
     "output_type": "stream",
     "text": [
      "offset of leftmost occurrence: 8\n",
      "# occurrences: 306\n"
     ]
    }
   ],
   "source": [
    "lambda_virus_genome = readGenome('lambda_virus.fa')\n",
    "occurrences = naive_with_rc('ACCT', lambda_virus_genome)\n",
    "print('offset of leftmost occurrence: %d' % min(occurrences))\n",
    "print('# occurrences: %d' % len(occurrences))"
   ]
  },
  {
   "cell_type": "markdown",
   "metadata": {},
   "source": [
    "#### Question 2\n",
    "How many times does **TTAA** or its reverse complement occur in the lambda virus genome?\n",
    "\n",
    "Hint: **TTAA** and its reverse complement are equal, so remember not to double count."
   ]
  },
  {
   "cell_type": "code",
   "execution_count": 4,
   "metadata": {},
   "outputs": [
    {
     "name": "stdout",
     "output_type": "stream",
     "text": [
      "offset of leftmost occurrence: 46\n",
      "# occurrences: 195\n"
     ]
    }
   ],
   "source": [
    "occurrences = naive_with_rc('TTAA', lambda_virus_genome)\n",
    "print('offset of leftmost occurrence: %d' % min(occurrences))\n",
    "print('# occurrences: %d' % len(occurrences))"
   ]
  },
  {
   "cell_type": "markdown",
   "metadata": {},
   "source": [
    "#### Question 3\n",
    "What is the offset of the leftmost occurrence of **ACTAAGT** or its reverse complement in the Lambda virus genome? E.g. if the leftmost occurrence of **ACTAAGT** is at offset 40 (0-based) and the leftmost occurrence of its reverse complement **ACTTAGT** is at offset 29, then report 29."
   ]
  },
  {
   "cell_type": "code",
   "execution_count": 5,
   "metadata": {},
   "outputs": [
    {
     "name": "stdout",
     "output_type": "stream",
     "text": [
      "offset of leftmost occurrence: 26028\n",
      "# occurrences: 3\n"
     ]
    }
   ],
   "source": [
    "occurrences = naive_with_rc('ACTAAGT', lambda_virus_genome)\n",
    "print('offset of leftmost occurrence: %d' % min(occurrences))\n",
    "print('# occurrences: %d' % len(occurrences))"
   ]
  },
  {
   "cell_type": "markdown",
   "metadata": {},
   "source": [
    "#### Question 4\n",
    "What is the offset of the leftmost occurrence of **AGTCGA** or its reverse complement in the Lambda virus genome?"
   ]
  },
  {
   "cell_type": "code",
   "execution_count": 6,
   "metadata": {},
   "outputs": [
    {
     "name": "stdout",
     "output_type": "stream",
     "text": [
      "offset of leftmost occurrence: 450\n",
      "# occurrences: 9\n"
     ]
    }
   ],
   "source": [
    "occurrences = naive_with_rc('AGTCGA', lambda_virus_genome)\n",
    "print('offset of leftmost occurrence: %d' % min(occurrences))\n",
    "print('# occurrences: %d' % len(occurrences))"
   ]
  },
  {
   "cell_type": "markdown",
   "metadata": {},
   "source": [
    "As we will discuss, sometimes we would like to find approximate matches for P in T. That is, we want to find occurrences with one or more differences.\n",
    "\n",
    "For Questions 5 and 6, make a new version of the **naive** function called **naive_2mm** that allows up to 2 mismatches per occurrence. Unlike for the previous questions, do not consider the reverse complement here. We're looking for approximate matches for P itself, not its reverse complement.\n",
    "\n",
    "For example, **ACTTTA** occurs twice in **ACTTACTTGATAAAGT**, once at offset 0 with 2 mismatches, and once at offset 4 with 1 mismatch. So **naive_2mm('ACTTTA', 'ACTTACTTGATAAAGT')** should return the list **[0, 4]|**.\n",
    "\n",
    "Hint: See this notebook for a few examples you can use to test your **naive_2mm** function."
   ]
  },
  {
   "cell_type": "code",
   "execution_count": 7,
   "metadata": {},
   "outputs": [],
   "source": [
    "# Implement the naive_2mm function\n",
    "from naive_2mm import naive_2mm"
   ]
  },
  {
   "cell_type": "markdown",
   "metadata": {},
   "source": [
    "#### Question 5\n",
    "How many times does **TTCAAGCC** occur in the Lambda virus genome when allowing up to 2 mismatches?"
   ]
  },
  {
   "cell_type": "code",
   "execution_count": 8,
   "metadata": {},
   "outputs": [
    {
     "name": "stdout",
     "output_type": "stream",
     "text": [
      "offset of leftmost occurrence: 45\n",
      "# occurrences: 191\n"
     ]
    }
   ],
   "source": [
    "occurrences = naive_2mm('TTCAAGCC', lambda_virus_genome)\n",
    "print('offset of leftmost occurrence: %d' % min(occurrences))\n",
    "print('# occurrences: %d' % len(occurrences))"
   ]
  },
  {
   "cell_type": "markdown",
   "metadata": {},
   "source": [
    "#### Question 6\n",
    "What is the offset of the leftmost occurrence of **AGGAGGTT** in the Lambda virus genome when allowing up to 2 mismatches?"
   ]
  },
  {
   "cell_type": "code",
   "execution_count": 9,
   "metadata": {},
   "outputs": [
    {
     "name": "stdout",
     "output_type": "stream",
     "text": [
      "offset of leftmost occurrence: 49\n",
      "# occurrences: 215\n"
     ]
    }
   ],
   "source": [
    "occurrences = naive_2mm('AGGAGGTT', lambda_virus_genome)\n",
    "print('offset of leftmost occurrence: %d' % min(occurrences))\n",
    "print('# occurrences: %d' % len(occurrences))"
   ]
  },
  {
   "cell_type": "markdown",
   "metadata": {},
   "source": [
    "Finally, download and parse the provided FASTQ file containing real DNA sequencing reads derived from a human:\n",
    "\n",
    "https://d28rh4a8wq0iu5.cloudfront.net/ads1/data/ERR037900_1.first1000.fastq\n",
    "\n",
    "Note that the file has many reads in it and you should examine all of them together when answering this question. The reads are taken from this study:\n",
    "\n",
    "Ajay, S. S., Parker, S. C., Abaan, H. O., Fajardo, K. V. F., & Margulies, E. H. (2011). Accurate\n",
    "\n",
    "and comprehensive sequencing of personal genomes. Genome research, 21(9), 1498-1505.\n",
    "\n",
    "This dataset has something wrong with it; one of the sequencing cycles is poor quality."
   ]
  },
  {
   "cell_type": "markdown",
   "metadata": {},
   "source": [
    "#### Question 7\n",
    "Report which sequencing cycle has the problem. Remember that a sequencing cycle corresponds to a particular offset in all the reads. For example, if the leftmost read position seems to have a problem consistently across reads, report 0. If the fourth position from the left has the problem, report 3. Do whatever analysis you think is needed to identify the bad cycle. It might help to review the \"Analyzing reads by position\" video."
   ]
  },
  {
   "cell_type": "code",
   "execution_count": 10,
   "metadata": {},
   "outputs": [],
   "source": [
    "def readFastq(filename):\n",
    "    sequences = []\n",
    "    qualities = []\n",
    "    with open(filename) as fh:\n",
    "        while True:\n",
    "            fh.readline() # skip name line\n",
    "            seq = fh.readline().rstrip() # read base sequence\n",
    "            fh.readline() # skip placeholder line\n",
    "            qual = fh.readline().rstrip() #base quality line\n",
    "            if len(seq) == 0:\n",
    "                break\n",
    "            sequences.append(seq)\n",
    "            qualities.append(qual)\n",
    "    return sequences, qualities\n",
    "\n",
    "def phred33ToQ(qual):\n",
    "    return ord(qual) - 33"
   ]
  },
  {
   "cell_type": "code",
   "execution_count": 11,
   "metadata": {},
   "outputs": [
    {
     "name": "stdout",
     "output_type": "stream",
     "text": [
      "[0, 38.435]\n",
      "[1, 38.46]\n",
      "[2, 38.4]\n",
      "[3, 38.428]\n",
      "[4, 38.417]\n",
      "[5, 38.382]\n",
      "[6, 38.362]\n",
      "[7, 38.364]\n",
      "[8, 38.325]\n",
      "[9, 38.343]\n",
      "[10, 38.194]\n",
      "[11, 38.154]\n",
      "[12, 38.089]\n",
      "[13, 38.152]\n",
      "[14, 38.153]\n",
      "[15, 38.099]\n",
      "[16, 38.055]\n",
      "[17, 38.041]\n",
      "[18, 38.067]\n",
      "[19, 38.15]\n",
      "[20, 38.087]\n",
      "[21, 37.989]\n",
      "[22, 38.009]\n",
      "[23, 37.909]\n",
      "[24, 38.028]\n",
      "[25, 37.576]\n",
      "[26, 37.514]\n",
      "[27, 37.503]\n",
      "[28, 37.578]\n",
      "[29, 37.552]\n",
      "[30, 37.629]\n",
      "[31, 37.555]\n",
      "[32, 37.548]\n",
      "[33, 37.433]\n",
      "[34, 37.402]\n",
      "[35, 37.343]\n",
      "[36, 37.198]\n",
      "[37, 37.126]\n",
      "[38, 37.158]\n",
      "[39, 36.904]\n",
      "[40, 36.742]\n",
      "[41, 36.677]\n",
      "[42, 36.645]\n",
      "[43, 36.493]\n",
      "[44, 36.509]\n",
      "[45, 36.375]\n",
      "[46, 36.205]\n",
      "[47, 35.974]\n",
      "[48, 35.847]\n",
      "[49, 35.673]\n",
      "[50, 34.832]\n",
      "[51, 34.739]\n",
      "[52, 34.399]\n",
      "[53, 34.402]\n",
      "[54, 34.025]\n",
      "[55, 33.025]\n",
      "[56, 32.882]\n",
      "[57, 32.741]\n",
      "[58, 32.573]\n",
      "[59, 32.224]\n",
      "[60, 30.805]\n",
      "[61, 30.666]\n",
      "[62, 30.343]\n",
      "[63, 30.131]\n",
      "[64, 29.463]\n",
      "[65, 17.891]\n",
      "[66, 4.526]\n",
      "[67, 17.881]\n",
      "[68, 17.865]\n",
      "[69, 17.852]\n",
      "[70, 17.466]\n",
      "[71, 17.131]\n",
      "[72, 17.134]\n",
      "[73, 17.098]\n",
      "[74, 16.852]\n",
      "[75, 23.745]\n",
      "[76, 23.958]\n",
      "[77, 23.221]\n",
      "[78, 22.902]\n",
      "[79, 22.366]\n",
      "[80, 20.904]\n",
      "[81, 20.584]\n",
      "[82, 20.383]\n",
      "[83, 19.767]\n",
      "[84, 19.095]\n",
      "[85, 18.061]\n",
      "[86, 17.757]\n",
      "[87, 17.152]\n",
      "[88, 16.972]\n",
      "[89, 16.286]\n",
      "[90, 14.811]\n",
      "[91, 14.679]\n",
      "[92, 14.31]\n",
      "[93, 14.152]\n",
      "[94, 13.734]\n",
      "[95, 12.538]\n",
      "[96, 12.278]\n",
      "[97, 12.179]\n",
      "[98, 11.676]\n",
      "[99, 11.561]\n"
     ]
    }
   ],
   "source": [
    "wget.download('https://d28rh4a8wq0iu5.cloudfront.net/ads1/data/ERR037900_1.first1000.fastq')\n",
    "seqs, quals = readFastq('ERR037900_1.first1000.fastq')\n",
    "#len(quals)\n",
    "for i in range(len(quals[1])):\n",
    "    n=0\n",
    "    for j in range(len(quals)):\n",
    "        n += phred33ToQ(quals[j][i])\n",
    "    print([i,n/1000])"
   ]
  },
  {
   "cell_type": "code",
   "execution_count": null,
   "metadata": {},
   "outputs": [],
   "source": []
  }
 ],
 "metadata": {
  "kernelspec": {
   "display_name": "Python 3",
   "language": "python",
   "name": "python3"
  },
  "language_info": {
   "codemirror_mode": {
    "name": "ipython",
    "version": 3
   },
   "file_extension": ".py",
   "mimetype": "text/x-python",
   "name": "python",
   "nbconvert_exporter": "python",
   "pygments_lexer": "ipython3",
   "version": "3.7.0"
  }
 },
 "nbformat": 4,
 "nbformat_minor": 1
}
